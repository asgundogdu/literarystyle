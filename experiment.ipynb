{
 "cells": [
  {
   "cell_type": "code",
   "execution_count": 2,
   "metadata": {},
   "outputs": [],
   "source": [
    "import pickle"
   ]
  },
  {
   "cell_type": "code",
   "execution_count": 1,
   "metadata": {},
   "outputs": [],
   "source": [
    "def reload_custom_modules():\n",
    "    import importlib\n",
    "    import src.text_processing\n",
    "    import src.config\n",
    "    import src.similarity\n",
    "    import src.testfile\n",
    "    import src.network\n",
    "    import src.sentiment\n",
    "    importlib.reload(src.text_processing)\n",
    "    importlib.reload(src.config)\n",
    "    importlib.reload(src.similarity)\n",
    "    importlib.reload(src.testfile)\n",
    "    importlib.reload(src.network)\n",
    "    importlib.reload(src.sentiment)\n",
    "    \n",
    "reload_custom_modules()"
   ]
  },
  {
   "cell_type": "markdown",
   "metadata": {},
   "source": [
    "## Data Labels\n",
    "\n",
    "edgelist0 = control\n",
    "\n",
    "edgelist1 = composite cutoff of .5\n",
    "\n",
    "edgelist2 = composite cutoff of .3\n",
    "\n",
    "edgelist3 = all words with composite 0 removed"
   ]
  },
  {
   "cell_type": "markdown",
   "metadata": {},
   "source": [
    "# Construct Networks"
   ]
  },
  {
   "cell_type": "code",
   "execution_count": null,
   "metadata": {},
   "outputs": [],
   "source": [
    "def network_files(data, process_code):\n",
    "    sim_matrix = src.similarity.cosine_sim_matrix(data.pdata)\n",
    "\n",
    "    sim_thresh1 = src.network.tune_sim_thresh(sim_matrix, .3)\n",
    "    sim_thresh2 = src.network.tune_sim_thresh(sim_matrix, .6)\n",
    "\n",
    "    edgelist1 = src.network.similarity_to_edgelist(sim_matrix.A, labels = data.labels, custom_sim_threshold = sim_thresh1)\n",
    "    edgelist2 = src.network.similarity_to_edgelist(sim_matrix.A, labels = data.labels, custom_sim_threshold = sim_thresh2)\n",
    "    \n",
    "    f1 = 'edgelists/edgelist' + str(process_code) + '_1'\n",
    "    f2 = 'edgelists/edgelist' + str(process_code) + '_2'\n",
    "    \n",
    "    with open(f1, 'wb') as outfile:\n",
    "        pickle.dump(edgelist1, outfile)\n",
    "    \n",
    "    with open(f2, 'wb') as outfile:\n",
    "        pickle.dump(edgelist2, outfile)"
   ]
  },
  {
   "cell_type": "code",
   "execution_count": null,
   "metadata": {},
   "outputs": [],
   "source": [
    "# Simple Preprocessed Network\n",
    "reload_custom_modules()\n",
    "\n",
    "data = src.text_processing.Data(directory_path='src/')\n",
    "data.get_processed_data()\n",
    "data.stem_vocab()\n",
    "\n",
    "network_files(data, 0)"
   ]
  },
  {
   "cell_type": "code",
   "execution_count": null,
   "metadata": {},
   "outputs": [],
   "source": [
    "data = src.text_processing.Data(directory_path='src/')\n",
    "data.get_processed_data()\n",
    "data.vader_polarity()\n",
    "data.filter_by_sentiment(threshold=.5)\n",
    "data.stem_vocab()\n",
    "\n",
    "network_files(data, 1)"
   ]
  },
  {
   "cell_type": "code",
   "execution_count": null,
   "metadata": {},
   "outputs": [],
   "source": [
    "data = src.text_processing.Data(directory_path='src/')\n",
    "data.get_processed_data()\n",
    "data.vader_polarity()\n",
    "data.filter_by_sentiment(threshold=.3)\n",
    "data.stem_vocab()\n",
    "\n",
    "network_files(data, 2)"
   ]
  },
  {
   "cell_type": "code",
   "execution_count": null,
   "metadata": {},
   "outputs": [],
   "source": [
    "data = src.text_processing.Data(directory_path='src/')\n",
    "data.get_processed_data()\n",
    "data.vader_polarity()\n",
    "data.filter_neutral_sent()\n",
    "data.stem_vocab()\n",
    "\n",
    "network_files(data, 3)"
   ]
  },
  {
   "cell_type": "markdown",
   "metadata": {},
   "source": [
    "# Network Analysis"
   ]
  },
  {
   "cell_type": "code",
   "execution_count": null,
   "metadata": {},
   "outputs": [],
   "source": []
  }
 ],
 "metadata": {
  "kernelspec": {
   "display_name": "Python 3",
   "language": "python",
   "name": "python3"
  },
  "language_info": {
   "codemirror_mode": {
    "name": "ipython",
    "version": 3
   },
   "file_extension": ".py",
   "mimetype": "text/x-python",
   "name": "python",
   "nbconvert_exporter": "python",
   "pygments_lexer": "ipython3",
   "version": "3.6.5"
  }
 },
 "nbformat": 4,
 "nbformat_minor": 2
}
