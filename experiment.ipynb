{
 "cells": [
  {
   "cell_type": "code",
   "execution_count": 30,
   "metadata": {},
   "outputs": [],
   "source": [
    "import pickle\n",
    "import matplotlib.pyplot as plt\n",
    "import seaborn as sns\n",
    "%matplotlib inline"
   ]
  },
  {
   "cell_type": "code",
   "execution_count": 36,
   "metadata": {},
   "outputs": [],
   "source": [
    "import importlib\n",
    "    \n",
    "import src.text_processing\n",
    "import src.config\n",
    "import src.similarity\n",
    "import src.testfile\n",
    "import src.network\n",
    "import src.sentiment\n",
    "    \n",
    "def reload_custom_modules():\n",
    "    importlib.reload(src.text_processing)\n",
    "    importlib.reload(src.config)\n",
    "    importlib.reload(src.similarity)\n",
    "    importlib.reload(src.testfile)\n",
    "    importlib.reload(src.network)\n",
    "    importlib.reload(src.sentiment)\n",
    "    \n",
    "reload_custom_modules()"
   ]
  },
  {
   "cell_type": "markdown",
   "metadata": {},
   "source": [
    "## Data Labels\n",
    "\n",
    "edgelist0 = control\n",
    "\n",
    "edgelist1 = composite cutoff of .5\n",
    "\n",
    "edgelist2 = composite cutoff of .3\n",
    "\n",
    "edgelist3 = all words with composite 0 removed"
   ]
  },
  {
   "cell_type": "markdown",
   "metadata": {},
   "source": [
    "# Construct Networks"
   ]
  },
  {
   "cell_type": "code",
   "execution_count": 34,
   "metadata": {},
   "outputs": [],
   "source": [
    "def network_files(data, process_code):\n",
    "    sim_matrix = src.similarity.cosine_sim_matrix(data.pdata).A\n",
    "    \n",
    "    sim_thresh1 = src.network.tune_sim_thresh(sim_matrix, .002)\n",
    "    sim_thresh2 = src.network.tune_sim_thresh(sim_matrix, .004)\n",
    "\n",
    "    edgelist1 = src.network.similarity_to_edgelist(sim_matrix, labels = data.labels, custom_sim_threshold = sim_thresh1)\n",
    "    edgelist2 = src.network.similarity_to_edgelist(sim_matrix, labels = data.labels, custom_sim_threshold = sim_thresh2)\n",
    "    \n",
    "    f1 = 'edgelists/edgelist' + str(process_code) + '_1'\n",
    "    f2 = 'edgelists/edgelist' + str(process_code) + '_2'\n",
    "    \n",
    "    with open(f1, 'wb') as outfile:\n",
    "        pickle.dump(edgelist1, outfile)\n",
    "    \n",
    "    with open(f2, 'wb') as outfile:\n",
    "        pickle.dump(edgelist2, outfile)"
   ]
  },
  {
   "cell_type": "code",
   "execution_count": 39,
   "metadata": {},
   "outputs": [
    {
     "name": "stdout",
     "output_type": "stream",
     "text": [
      "Simple splitting done in: 0.6292302926381429 min\n",
      "increase: 0.030057360448340842\n",
      "0 loops in 0.5487157146135966 min\n",
      "Upper bound: 0.003    Lower bound: 0.001    Current: 0.0010309888020411542\n",
      "Upper bound: 209763.67500000002    Lower bound: 69921.225    Current: 72088\n",
      "Number of loops to converge: 1\n",
      "Converged in 0.5487484653790792 min\n",
      "decrease: 0.828168532993141\n",
      "0 loops in 1.0297375162442526 min\n",
      "Upper bound: 0.006    Lower bound: 0.002    Current: 0.0010309888020411542\n",
      "Upper bound: 419527.35000000003    Lower bound: 139842.45    Current: 72088\n",
      "increase: 0.6605872872943329\n",
      "1 loops in 1.6658674756685892 min\n",
      "Upper bound: 0.006    Lower bound: 0.002    Current: 0.005892531202077767\n",
      "Upper bound: 419527.35000000003    Lower bound: 139842.45    Current: 412013\n",
      "Number of loops to converge: 2\n",
      "Converged in 1.6659342169761657 min\n"
     ]
    },
    {
     "ename": "AttributeError",
     "evalue": "'numpy.ndarray' object has no attribute 'A'",
     "output_type": "error",
     "traceback": [
      "\u001b[1;31m---------------------------------------------------------------------------\u001b[0m",
      "\u001b[1;31mAttributeError\u001b[0m                            Traceback (most recent call last)",
      "\u001b[1;32m<ipython-input-39-28753e12a754>\u001b[0m in \u001b[0;36m<module>\u001b[1;34m()\u001b[0m\n\u001b[0;32m      6\u001b[0m \u001b[1;31m#data.stem_vocab()\u001b[0m\u001b[1;33m\u001b[0m\u001b[1;33m\u001b[0m\u001b[0m\n\u001b[0;32m      7\u001b[0m \u001b[1;33m\u001b[0m\u001b[0m\n\u001b[1;32m----> 8\u001b[1;33m \u001b[0mnetwork_files\u001b[0m\u001b[1;33m(\u001b[0m\u001b[0mdata\u001b[0m\u001b[1;33m,\u001b[0m \u001b[1;36m0\u001b[0m\u001b[1;33m)\u001b[0m\u001b[1;33m\u001b[0m\u001b[0m\n\u001b[0m",
      "\u001b[1;32m<ipython-input-34-05a0bbc4ff88>\u001b[0m in \u001b[0;36mnetwork_files\u001b[1;34m(data, process_code)\u001b[0m\n\u001b[0;32m      5\u001b[0m     \u001b[0msim_thresh2\u001b[0m \u001b[1;33m=\u001b[0m \u001b[0msrc\u001b[0m\u001b[1;33m.\u001b[0m\u001b[0mnetwork\u001b[0m\u001b[1;33m.\u001b[0m\u001b[0mtune_sim_thresh\u001b[0m\u001b[1;33m(\u001b[0m\u001b[0msim_matrix\u001b[0m\u001b[1;33m,\u001b[0m \u001b[1;36m.004\u001b[0m\u001b[1;33m)\u001b[0m\u001b[1;33m\u001b[0m\u001b[0m\n\u001b[0;32m      6\u001b[0m \u001b[1;33m\u001b[0m\u001b[0m\n\u001b[1;32m----> 7\u001b[1;33m     \u001b[0medgelist1\u001b[0m \u001b[1;33m=\u001b[0m \u001b[0msrc\u001b[0m\u001b[1;33m.\u001b[0m\u001b[0mnetwork\u001b[0m\u001b[1;33m.\u001b[0m\u001b[0msimilarity_to_edgelist\u001b[0m\u001b[1;33m(\u001b[0m\u001b[0msim_matrix\u001b[0m\u001b[1;33m.\u001b[0m\u001b[0mA\u001b[0m\u001b[1;33m,\u001b[0m \u001b[0mlabels\u001b[0m \u001b[1;33m=\u001b[0m \u001b[0mdata\u001b[0m\u001b[1;33m.\u001b[0m\u001b[0mlabels\u001b[0m\u001b[1;33m,\u001b[0m \u001b[0mcustom_sim_threshold\u001b[0m \u001b[1;33m=\u001b[0m \u001b[0msim_thresh1\u001b[0m\u001b[1;33m)\u001b[0m\u001b[1;33m\u001b[0m\u001b[0m\n\u001b[0m\u001b[0;32m      8\u001b[0m     \u001b[0medgelist2\u001b[0m \u001b[1;33m=\u001b[0m \u001b[0msrc\u001b[0m\u001b[1;33m.\u001b[0m\u001b[0mnetwork\u001b[0m\u001b[1;33m.\u001b[0m\u001b[0msimilarity_to_edgelist\u001b[0m\u001b[1;33m(\u001b[0m\u001b[0msim_matrix\u001b[0m\u001b[1;33m.\u001b[0m\u001b[0mA\u001b[0m\u001b[1;33m,\u001b[0m \u001b[0mlabels\u001b[0m \u001b[1;33m=\u001b[0m \u001b[0mdata\u001b[0m\u001b[1;33m.\u001b[0m\u001b[0mlabels\u001b[0m\u001b[1;33m,\u001b[0m \u001b[0mcustom_sim_threshold\u001b[0m \u001b[1;33m=\u001b[0m \u001b[0msim_thresh2\u001b[0m\u001b[1;33m)\u001b[0m\u001b[1;33m\u001b[0m\u001b[0m\n\u001b[0;32m      9\u001b[0m \u001b[1;33m\u001b[0m\u001b[0m\n",
      "\u001b[1;31mAttributeError\u001b[0m: 'numpy.ndarray' object has no attribute 'A'"
     ]
    }
   ],
   "source": [
    "# Simple Preprocessed Network\n",
    "reload_custom_modules()\n",
    "\n",
    "data = src.text_processing.Data(directory_path='src/')\n",
    "data.get_processed_data()\n",
    "data.stem_vocab()\n",
    "\n",
    "network_files(data, 0)"
   ]
  },
  {
   "cell_type": "code",
   "execution_count": null,
   "metadata": {},
   "outputs": [],
   "source": [
    "data = src.text_processing.Data(directory_path='src/')\n",
    "data.get_processed_data()\n",
    "data.vader_polarity()\n",
    "data.filter_by_sentiment(threshold=.5)\n",
    "data.stem_vocab()\n",
    "\n",
    "network_files(data, 1)"
   ]
  },
  {
   "cell_type": "code",
   "execution_count": null,
   "metadata": {},
   "outputs": [],
   "source": [
    "data = src.text_processing.Data(directory_path='src/')\n",
    "data.get_processed_data()\n",
    "data.vader_polarity()\n",
    "data.filter_by_sentiment(threshold=.3)\n",
    "data.stem_vocab()\n",
    "\n",
    "network_files(data, 2)"
   ]
  },
  {
   "cell_type": "code",
   "execution_count": null,
   "metadata": {},
   "outputs": [],
   "source": [
    "data = src.text_processing.Data(directory_path='src/')\n",
    "data.get_processed_data()\n",
    "data.vader_polarity()\n",
    "data.filter_neutral_sent()\n",
    "data.stem_vocab()\n",
    "\n",
    "network_files(data, 3)"
   ]
  },
  {
   "cell_type": "markdown",
   "metadata": {},
   "source": [
    "# Network Analysis"
   ]
  },
  {
   "cell_type": "code",
   "execution_count": null,
   "metadata": {},
   "outputs": [],
   "source": []
  }
 ],
 "metadata": {
  "kernelspec": {
   "display_name": "Python 3",
   "language": "python",
   "name": "python3"
  },
  "language_info": {
   "codemirror_mode": {
    "name": "ipython",
    "version": 3
   },
   "file_extension": ".py",
   "mimetype": "text/x-python",
   "name": "python",
   "nbconvert_exporter": "python",
   "pygments_lexer": "ipython3",
   "version": "3.6.5"
  }
 },
 "nbformat": 4,
 "nbformat_minor": 2
}
