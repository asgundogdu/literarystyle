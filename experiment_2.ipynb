{
 "cells": [
  {
   "cell_type": "code",
   "execution_count": 1,
   "metadata": {},
   "outputs": [],
   "source": [
    "import os, sys\n",
    "sys.path.append(os.path.join(os.path.dirname('__file__'), \"src\"))\n",
    "\n",
    "from text_processing import alt_Data\n",
    "from similarity import symm_KL_sim_matrix"
   ]
  },
  {
   "cell_type": "code",
   "execution_count": 2,
   "metadata": {},
   "outputs": [],
   "source": [
    "data = alt_Data()"
   ]
  },
  {
   "cell_type": "code",
   "execution_count": 3,
   "metadata": {},
   "outputs": [
    {
     "data": {
      "text/plain": [
       "(11826, 6)"
      ]
     },
     "execution_count": 3,
     "metadata": {},
     "output_type": "execute_result"
    }
   ],
   "source": [
    "data.process_data(author_threshold=10)\n",
    "data.pdata.shape"
   ]
  },
  {
   "cell_type": "code",
   "execution_count": 4,
   "metadata": {},
   "outputs": [
    {
     "name": "stdout",
     "output_type": "stream",
     "text": [
      "Computing word features using tfidf...\n",
      "\n",
      "Calculating LDA for 16 topics...\n",
      "iteration: 1 of max_iter: 7\n",
      "iteration: 2 of max_iter: 7\n",
      "iteration: 3 of max_iter: 7\n",
      "iteration: 4 of max_iter: 7\n",
      "iteration: 5 of max_iter: 7\n",
      "iteration: 6 of max_iter: 7\n",
      "iteration: 7 of max_iter: 7\n",
      "Topic 0:\n",
      "eu britain european may union prime minister prime minister london europe\n",
      "Topic 1:\n",
      "clinton department information state news investigation secretary security hillary justice\n",
      "Topic 2:\n",
      "korea north north korea china nuclear missile south test united ballistic\n",
      "Topic 3:\n",
      "islamic islamic state syria state forces syrian attack military government war\n",
      "Topic 4:\n",
      "trump clinton republican election campaign voters party presidential hillary democratic\n",
      "Topic 5:\n",
      "court case judge law justice federal order legal senate decision\n",
      "Topic 6:\n",
      "police people one city new told state family news two\n",
      "Topic 7:\n",
      "senate markets agreements federal reserve iraq 10 billion central bank index stocks mexico city\n",
      "Topic 8:\n",
      "bank court billion million london company department new justice case\n",
      "Topic 9:\n",
      "company billion percent inc deal million shares business companies would\n",
      "Topic 10:\n",
      "trump house tax republican senate budget governor bill republicans plan\n",
      "Topic 11:\n",
      "mexico mexican mexico city agreements g20 foreign minister germany summit probably trade\n",
      "Topic 12:\n",
      "percent oil rate prices market bank inflation fell growth rates\n",
      "Topic 13:\n",
      "japan trade inflation bank central bank takes initial people familiar central sign\n",
      "Topic 14:\n",
      "trump obama president russia united administration united states states white house russian\n",
      "Topic 15:\n",
      "china companies technology company chinese inc billion banks industry new\n",
      "\n",
      "Theta has been created with dimensions (11826, 16)\n",
      "\n",
      "Calculating log_odds from theta matrix... takes a while\n",
      "\n",
      "Log odds has been created with dimensions (11826, 11826, 16)\n",
      "\n",
      "Calculating Symmetric KL Divergence values of pairs... Might take a while\n",
      "\n",
      "Symmetric KL Divergence values are calculated and dimensions are (11826, 11826)\n",
      "After pruning network has 166375 edges\n"
     ]
    }
   ],
   "source": [
    "pairwise_similarity = symm_KL_sim_matrix(documents=data.pdata, LDA_topic_num=16, feature_extractor='tfidf', mnitsknn_k=13, verbose=True)"
   ]
  }
 ],
 "metadata": {
  "kernelspec": {
   "display_name": "Python 3",
   "language": "python",
   "name": "python3"
  },
  "language_info": {
   "codemirror_mode": {
    "name": "ipython",
    "version": 3
   },
   "file_extension": ".py",
   "mimetype": "text/x-python",
   "name": "python",
   "nbconvert_exporter": "python",
   "pygments_lexer": "ipython3",
   "version": "3.6.6"
  }
 },
 "nbformat": 4,
 "nbformat_minor": 2
}
